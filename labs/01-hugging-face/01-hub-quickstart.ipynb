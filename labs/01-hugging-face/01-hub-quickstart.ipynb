{
 "cells": [
  {
   "cell_type": "markdown",
   "metadata": {},
   "source": [
    "# Hub Quickstart\n",
    "This notebook will help validate the local development environment and make sure we are set up correctly to use the hub in later exercises. The devcontainer in this repository is already configured to do the following:\n",
    "\n",
    "- Install the `huggingface_hub` library (Python) for SDK-based support.\n",
    "- Install the [llm-vscode](https://marketplace.visualstudio.com/items?itemName=HuggingFace.huggingface-vscode) extension for IDE-based support.\n",
    "\n",
    "Let's check that these work as expected. Then try out a few simple exercises.\n",
    "\n",
    "---"
   ]
  },
  {
   "cell_type": "code",
   "execution_count": null,
   "metadata": {},
   "outputs": [],
   "source": []
  }
 ],
 "metadata": {
  "language_info": {
   "name": "python"
  }
 },
 "nbformat": 4,
 "nbformat_minor": 2
}
