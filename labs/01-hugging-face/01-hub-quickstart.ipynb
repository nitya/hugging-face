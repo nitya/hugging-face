{
 "cells": [
  {
   "cell_type": "markdown",
   "metadata": {},
   "source": [
    "# 01 | Hub Quickstart\n",
    "\n",
    "What We'll Achieve:\n",
    "\n",
    "1. Verify that we have the Hugging Face SDK and CLI installed\n",
    "1. Use the CLI to authenticate with Hub, create-update-delete a repo\n",
    "1. Use the Python SDK to authenticate with Hub, create-update-delete a repo\n",
    "1. Understand what other capabilities the CLI and SDK provide\n",
    "\n",
    "_In this notebook we'll get a high-level look at the various APIs supported in the Hub SDK by making at least 1 call per resource type. We can create dedicated notebooks for deep dives into resource-specific interactions later._\n",
    "\n",
    "\n",
    "---"
   ]
  },
  {
   "cell_type": "markdown",
   "metadata": {},
   "source": [
    "## 1. Verify that Hugging Face SDK and CLI are installed"
   ]
  },
  {
   "cell_type": "code",
   "execution_count": 29,
   "metadata": {},
   "outputs": [
    {
     "name": "stdout",
     "output_type": "stream",
     "text": [
      "Name: huggingface-hub\n",
      "Version: 0.25.1\n",
      "Summary: Client library to download and publish models, datasets and other repos on the huggingface.co hub\n",
      "Home-page: https://github.com/huggingface/huggingface_hub\n",
      "Author: Hugging Face, Inc.\n",
      "Author-email: julien@huggingface.co\n",
      "License: Apache\n",
      "Location: /usr/local/lib/python3.12/site-packages\n",
      "Requires: filelock, fsspec, packaging, pyyaml, requests, tqdm, typing-extensions\n",
      "Required-by: datasets\n"
     ]
    }
   ],
   "source": [
    "# Check huggingface-hub package is installed\n",
    "!pip show huggingface-hub"
   ]
  },
  {
   "cell_type": "code",
   "execution_count": 30,
   "metadata": {},
   "outputs": [
    {
     "name": "stdout",
     "output_type": "stream",
     "text": [
      "usage: huggingface-cli <command> [<args>]\n",
      "\n",
      "positional arguments:\n",
      "  {download,upload,repo-files,env,login,whoami,logout,repo,lfs-enable-largefiles,lfs-multipart-upload,scan-cache,delete-cache,tag,version,upload-large-folder}\n",
      "                        huggingface-cli command helpers\n",
      "    download            Download files from the Hub\n",
      "    upload              Upload a file or a folder to a repo on the Hub\n",
      "    repo-files          Manage files in a repo on the Hub\n",
      "    env                 Print information about the environment.\n",
      "    login               Log in using a token from\n",
      "                        huggingface.co/settings/tokens\n",
      "    whoami              Find out which huggingface.co account you are logged\n",
      "                        in as.\n",
      "    logout              Log out\n",
      "    repo                {create} Commands to interact with your huggingface.co\n",
      "                        repos.\n",
      "    lfs-enable-largefiles\n",
      "                        Configure your repository to enable upload of files >\n",
      "                        5GB.\n",
      "    scan-cache          Scan cache directory.\n",
      "    delete-cache        Delete revisions from the cache directory.\n",
      "    tag                 (create, list, delete) tags for a repo in the hub\n",
      "    version             Print information about the huggingface-cli version.\n",
      "    upload-large-folder\n",
      "                        Upload a large folder to a repo on the Hub\n",
      "\n",
      "options:\n",
      "  -h, --help            show this help message and exit\n"
     ]
    }
   ],
   "source": [
    "# Check huggingface-cli is installed\n",
    "# We are testing it from the cell here - \n",
    "# You can also copy this command into your VS Code terminal manually (leave out the `!!` at the beginning)\n",
    "!huggingface-cli --help"
   ]
  },
  {
   "cell_type": "code",
   "execution_count": 31,
   "metadata": {},
   "outputs": [
    {
     "name": "stdout",
     "output_type": "stream",
     "text": [
      "Your Hugging Face token is correctly defined.\n"
     ]
    }
   ],
   "source": [
    "# Check that you have an HF_TOKEN defined in your .env file\n",
    "\n",
    "import os\n",
    "from dotenv import load_dotenv\n",
    "\n",
    "load_dotenv()\n",
    "token = os.getenv(\"HF_TOKEN\")\n",
    "if not token:\n",
    "    print(\"Add Hugging Face token to .env file then Restart kernel to apply.\")\n",
    "else: \n",
    "    print(\"Your Hugging Face token is correctly defined.\")"
   ]
  },
  {
   "cell_type": "markdown",
   "metadata": {},
   "source": [
    "---"
   ]
  },
  {
   "cell_type": "markdown",
   "metadata": {},
   "source": [
    "## 2. Use the Hugging Face CLI\n"
   ]
  },
  {
   "cell_type": "code",
   "execution_count": 35,
   "metadata": {},
   "outputs": [
    {
     "name": "stdout",
     "output_type": "stream",
     "text": [
      "nityan\n",
      "\u001b[1morgs: \u001b[0m microsoft,blog-explorers,WomenonHuggingFace,social-post-explorers,aide-hub,ImperialContoso\n"
     ]
    }
   ],
   "source": [
    "# ------- Enter these commands IN THE TERMINAL ---------\n",
    "# huggingface-cli version        - prints version\n",
    "# huggingface-cli --help         - prints help menu\n",
    "# huggingface-cli env            - prints env variables\n",
    "\n",
    "# huggingface-cli logout         - logs you out\n",
    "# huggingface-cli whoami         - \"Not logged in\"\n",
    "# huggingface-cli login          - login again\n",
    "# huggingface-cli whoami         - \"nityan orgs: ....\"\n",
    "\n",
    "# huggingface-cli scan-cache      - lists contents of local cache (models)\n",
    "# huggingface-cli delete-cache    - prompts you to select candidates (select all)\n",
    "# huggingface-cli scan-cache      - should show empty cache\n",
    "\n",
    "# huggingface-cli create <name>              - creates PUBLIC repo called \"name\" under your profile\n",
    "\n",
    "# There are not many other commands to use so let's move on\n",
    "\n",
    "# --------- CLI commands testing complete\n",
    "\n",
    "# Check your login identity before we continue\n",
    "!huggingface-cli whoami\n"
   ]
  },
  {
   "cell_type": "markdown",
   "metadata": {},
   "source": [
    "---"
   ]
  },
  {
   "cell_type": "markdown",
   "metadata": {},
   "source": [
    "## 3. Use the Hugging Face Python SDK"
   ]
  },
  {
   "cell_type": "markdown",
   "metadata": {},
   "source": [
    "### 3.1 [Manage Repositories](https://huggingface.co/docs/huggingface_hub/guides/overview)"
   ]
  },
  {
   "cell_type": "code",
   "execution_count": null,
   "metadata": {},
   "outputs": [],
   "source": [
    "# Login programmatically if needed\n",
    "# You can also login from CLI using `huggingface-cli login`\n",
    "from huggingface_hub import login\n",
    "login(token=token)"
   ]
  },
  {
   "cell_type": "code",
   "execution_count": 47,
   "metadata": {},
   "outputs": [
    {
     "name": "stdout",
     "output_type": "stream",
     "text": [
      "Created:  https://huggingface.co/nityan/my-first-model\n"
     ]
    }
   ],
   "source": [
    "# Create a repository for your model \n",
    "# - Use token created previously\n",
    "# - Make the repo private and of type \"model\"\n",
    "# - Name the repo \"my-first-model\"\n",
    "# - If the repo already exists, overwrite it\n",
    "from huggingface_hub import create_repo\n",
    "repo_url = create_repo(token=token, private=True, repo_type=\"model\", repo_id=\"nityan/my-first-model\", exist_ok=True)\n",
    "print(\"Created: \",repo_url)"
   ]
  },
  {
   "cell_type": "code",
   "execution_count": 49,
   "metadata": {},
   "outputs": [
    {
     "name": "stdout",
     "output_type": "stream",
     "text": [
      "Updated visibility:  {'private': False}\n"
     ]
    }
   ],
   "source": [
    "# Update its visibility to public\n",
    "from huggingface_hub import update_repo_visibility \n",
    "result = update_repo_visibility(token=token, repo_id=\"nityan/my-first-model\", private=False)\n",
    "print(\"Updated visibility: \", result)"
   ]
  },
  {
   "cell_type": "code",
   "execution_count": 50,
   "metadata": {},
   "outputs": [
    {
     "name": "stdout",
     "output_type": "stream",
     "text": [
      "Deleted:  None\n"
     ]
    }
   ],
   "source": [
    "# Delete the repository\n",
    "from huggingface_hub import delete_repo\n",
    "result = delete_repo(token=token, repo_id=\"nityan/my-first-model\") \n",
    "print(\"Deleted: \", result)"
   ]
  },
  {
   "cell_type": "markdown",
   "metadata": {},
   "source": [
    "### 3.2 Upload Files\n"
   ]
  },
  {
   "cell_type": "code",
   "execution_count": 55,
   "metadata": {},
   "outputs": [
    {
     "name": "stdout",
     "output_type": "stream",
     "text": [
      "Created:  nityan/my-first-model\n",
      "Repo exists:  True\n",
      "Deleted:  nityan/my-first-model\n",
      "Repo exists:  False\n"
     ]
    }
   ],
   "source": [
    "# Create a test repo\n",
    "from huggingface_hub import create_repo \n",
    "my_repo= create_repo(token=token, private=True, repo_type=\"model\", repo_id=\"nityan/my-first-model\", exist_ok=True)\n",
    "my_repo = my_repo.replace(\"https://huggingface.co/\",\"\")\n",
    "print(\"Created: \",my_repo)\n",
    "\n",
    "# Check if the repo exists \n",
    "from huggingface_hub import repo_exists \n",
    "result = repo_exists(repo_id=my_repo)\n",
    "print(\"Repo exists: \", result)\n",
    "\n",
    "# Upload a file to the repo\n",
    "from huggingface_hub import upload_file\n",
    "result = upload_file(repo_id=my_repo, filepath=\"README-model.md\")\n",
    "\n",
    "\n",
    "# Then delete the repo\n",
    "from huggingface_hub import delete_repo\n",
    "result = delete_repo(repo_id=my_repo)\n",
    "print(\"Deleted: \",my_repo)\n",
    "\n",
    "# And verify it was removed\n",
    "result = repo_exists(repo_id=my_repo)\n",
    "print(\"Repo exists: \", result)"
   ]
  },
  {
   "cell_type": "markdown",
   "metadata": {},
   "source": [
    "### 3.3 Download Files"
   ]
  },
  {
   "cell_type": "code",
   "execution_count": null,
   "metadata": {},
   "outputs": [],
   "source": [
    "# Download a public file (work without login)\n",
    "# File will be downloaded to local cache\n",
    "from huggingface_hub import hf_hub_download\n",
    "downloaded = hf_hub_download(filename=\"config.json\", repo_id=\"facebook/bart-large-cnn\")\n",
    "print(\"File downloaded here: \", downloaded)"
   ]
  },
  {
   "cell_type": "markdown",
   "metadata": {},
   "source": [
    "### 3.4 Search Models, Datasets, Spaces"
   ]
  },
  {
   "cell_type": "markdown",
   "metadata": {},
   "source": [
    "### 3.5 Manage Collections"
   ]
  },
  {
   "cell_type": "markdown",
   "metadata": {},
   "source": [
    "### 3.6 Create & Share Model Cards"
   ]
  },
  {
   "cell_type": "markdown",
   "metadata": {},
   "source": [
    "### 3.7 Use Inference API"
   ]
  },
  {
   "cell_type": "markdown",
   "metadata": {},
   "source": [
    "---"
   ]
  },
  {
   "cell_type": "markdown",
   "metadata": {},
   "source": [
    "### 1.2 Create & Use Repository"
   ]
  },
  {
   "cell_type": "markdown",
   "metadata": {},
   "source": [
    "Visit the repository in the browser.\n",
    "\n",
    "- Since repo was created with default type, it assumes the type is \"Model\"\n",
    "- The README.md is expected to reflect the [Model Card](https://huggingface.co/docs/hub/model-cards#model-card-metadata) format\n",
    "- You can create/commit the default README.md from the website **now**\n",
    "- Once done, return here and we can programmatically download and upload that file"
   ]
  },
  {
   "cell_type": "code",
   "execution_count": null,
   "metadata": {},
   "outputs": [],
   "source": [
    "# Download the model card README from the repo\n",
    "# See: https://huggingface.co/docs/huggingface_hub/main/en/guides/download\n",
    "#   for more options on download parameters\n",
    "# By default downloads are saved to the default `cache_dir` in system   \n",
    "#   which is usually `~/.cache/huggingface/hub`\n",
    "from huggingface_hub import hf_hub_download\n",
    "download = hf_hub_download(filename=\"README.md\", repo_id=\"nityan/test-hf-repo\")\n",
    "print(\"File downloaded here: \", download)"
   ]
  },
  {
   "cell_type": "code",
   "execution_count": null,
   "metadata": {},
   "outputs": [],
   "source": [
    "# Lets change this to download to specific folder (local)\n",
    "#   You should now see a `README.md` in the local folder\n",
    "#   And its contents should reflect that of the Model card created earlier\n",
    "download = hf_hub_download(filename=\"README.md\", repo_id=\"nityan/test-hf-repo\", local_dir=\".\")\n",
    "print(\"File downloaded here: \", download)"
   ]
  },
  {
   "cell_type": "code",
   "execution_count": null,
   "metadata": {},
   "outputs": [],
   "source": [
    "# Make some changes to the README.md file locally\n",
    "# Then let's upload the changes back to the repo\n",
    "# And verify the changes by visiting the repo in the browser\n",
    "from huggingface_hub import HfApi\n",
    "api = HfApi()\n",
    "result = api.upload_file(\n",
    "    path_or_fileobj=\"README.md\",\n",
    "    path_in_repo=\"README.md\",\n",
    "    repo_id=\"nityan/test-hf-repo\",\n",
    ")\n",
    "print(\"Upload result: \", result)"
   ]
  },
  {
   "cell_type": "markdown",
   "metadata": {},
   "source": [
    "### 1.3 Search Hub for Models"
   ]
  },
  {
   "cell_type": "markdown",
   "metadata": {},
   "source": [
    "### 1.4 Search Hub for Datasets"
   ]
  },
  {
   "cell_type": "markdown",
   "metadata": {},
   "source": [
    "### 1.5 Search Hub for Collections\n",
    "\n",
    "Working through the examples in [this documentation set](https://huggingface.co/docs/huggingface_hub/guides/collections) related to Collections.\n",
    "\n",
    "A [collection](https://huggingface.co/docs/hub/collections) is a group of related items on the Hub (models, datasets, Spaces, papers) that are organized together on the same page. You can create, update, collaborate-on, access-control, organize, and delete, collections via the Hub UI. Here's what you can do with the Hub API.\n",
    "\n",
    "- `get_collection` to get collection details\n",
    "- `list_collections` to list all collections for given criteria\n",
    "- `create_collection` to create a new collection\n",
    "- `add_collection_item`, `update_collection_item` to manage them\n",
    "- `delete_collection_item` or `delete_collection` to prune them\n",
    "\n",
    "I have a collection of [#MustRead papers](https://huggingface.co/collections/nityan/mustread-papers-656253fe4e74b2075afd652b) - let me see how I can work with this"
   ]
  },
  {
   "cell_type": "code",
   "execution_count": 29,
   "metadata": {},
   "outputs": [],
   "source": [
    "# My collection\n",
    "my_collection = \"nityan/mustread-papers-656253fe4e74b2075afd652b\""
   ]
  },
  {
   "cell_type": "code",
   "execution_count": 45,
   "metadata": {},
   "outputs": [
    {
     "name": "stdout",
     "output_type": "stream",
     "text": [
      "Has: 16 items\n",
      "From: Nitya Narasimhan, PhD\n",
      "About: Signature papers in AI/ML with focus on generative AI or large language models that bring unique perspectives and/or are highly cited by peers\n",
      "Type: pink\n",
      "Link: https://huggingface.co/collections/nityan/mustread-papers-656253fe4e74b2075afd652b\n"
     ]
    }
   ],
   "source": [
    "# Fetch it and display details\n",
    "from huggingface_hub import get_collection\n",
    "collection = get_collection(my_collection)\n",
    "print(\"Has:\", len(collection.items), \"items\")\n",
    "print(\"From:\", collection.owner[\"fullname\"])\n",
    "print(\"About:\", collection.description)\n",
    "print(\"Type:\",collection.theme)\n",
    "print(\"Link:\", collection.url)\n"
   ]
  },
  {
   "cell_type": "markdown",
   "metadata": {},
   "source": [
    "### 1.6 Access The Inference API"
   ]
  }
 ],
 "metadata": {
  "kernelspec": {
   "display_name": "Python 3",
   "language": "python",
   "name": "python3"
  },
  "language_info": {
   "codemirror_mode": {
    "name": "ipython",
    "version": 3
   },
   "file_extension": ".py",
   "mimetype": "text/x-python",
   "name": "python",
   "nbconvert_exporter": "python",
   "pygments_lexer": "ipython3",
   "version": "3.12.6"
  }
 },
 "nbformat": 4,
 "nbformat_minor": 2
}
