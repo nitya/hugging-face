{
 "cells": [
  {
   "cell_type": "markdown",
   "metadata": {},
   "source": [
    "# Hub Quickstart\n",
    "\n",
    "This notebook walks through the [Quickstart guide]([Quickstart](https://huggingface.co/docs/huggingface_hub/main/en/quick-start#authentication)) on Hugging Face Hub. \n",
    "\n",
    "The `devcontainer.json` for this repo sets up the Python environment with necessary packages. We'll validate those first and install any lab-specific extras on demand.\n",
    "\n",
    "To run the notebook, launch GitHub Codespaces to get the development environment ready. Then open this notebook and select the Python 3 kernel (currently `Python 3.12.x`) - then run cells one at a time to understand steps (or `Run All` if you want to execute everything first).\n",
    "\n",
    "Note that the Visual Studio Code environment should have support for auto-completion and inline documentation for the Hugging Face libraries thanks to the installed `llm-vscode` extension.\n",
    "\n",
    "---"
   ]
  },
  {
   "cell_type": "markdown",
   "metadata": {},
   "source": [
    "### 1.1 Validate and fix setup"
   ]
  },
  {
   "cell_type": "code",
   "execution_count": null,
   "metadata": {},
   "outputs": [],
   "source": [
    "# Check huggingface-hub package is installed\n",
    "!! pip show huggingface-hub"
   ]
  },
  {
   "cell_type": "code",
   "execution_count": null,
   "metadata": {},
   "outputs": [],
   "source": [
    "# Check if you are logged in (we can fix that later if needed)\n",
    "!! huggingface-cli whoami"
   ]
  },
  {
   "cell_type": "code",
   "execution_count": null,
   "metadata": {},
   "outputs": [],
   "source": [
    "# Try downloading a file (should work without login)\n",
    "from huggingface_hub import hf_hub_download\n",
    "downloaded = hf_hub_download(filename=\"config.json\", repo_id=\"facebook/bart-large-cnn\")\n",
    "print(\"File downloaded here: \", downloaded)"
   ]
  },
  {
   "cell_type": "code",
   "execution_count": null,
   "metadata": {},
   "outputs": [],
   "source": [
    "# Check that HF_TOKEN is defined in .env - else fix it now\n",
    "import os\n",
    "from dotenv import load_dotenv\n",
    "\n",
    "load_dotenv()\n",
    "token = os.getenv(\"HF_TOKEN\")\n",
    "if not token:\n",
    "    print(\"Add Hugging Face token to .env file then Restart kernel to apply.\")\n",
    "else: \n",
    "    print(\"Your Hugging Face token is correctly defined.\")\n"
   ]
  },
  {
   "cell_type": "code",
   "execution_count": null,
   "metadata": {},
   "outputs": [],
   "source": [
    "# Login programmatically if needed\n",
    "# You can also login from CLI using `huggingface-cli login`\n",
    "from huggingface_hub import login\n",
    "login(token=token)"
   ]
  },
  {
   "cell_type": "code",
   "execution_count": null,
   "metadata": {},
   "outputs": [],
   "source": [
    "# Verify you are logged in using CLI\n",
    "# Should identify your user name and HF orgs you belong to\n",
    "!huggingface-cli whoami"
   ]
  },
  {
   "cell_type": "markdown",
   "metadata": {},
   "source": [
    "### 1.2 Create & Use Repository"
   ]
  },
  {
   "cell_type": "code",
   "execution_count": null,
   "metadata": {},
   "outputs": [],
   "source": [
    "# Use the HfAPI to create a new repo, set to private for now\n",
    "# Repos can be used for models, datasets or apps\n",
    "# They get created at the following URL:\n",
    "#     https://huggingface.co/<username>/<repo_id>\n",
    "from huggingface_hub import HfApi\n",
    "api = HfApi()\n",
    "api.create_repo(repo_id=\"test-hf-repo\", private=True)"
   ]
  },
  {
   "cell_type": "markdown",
   "metadata": {},
   "source": [
    "Visit the repository in the browser.\n",
    "\n",
    "- Since repo was created with default type, it assumes the type is \"Model\"\n",
    "- The README.md is expected to reflect the [Model Card](https://huggingface.co/docs/hub/model-cards#model-card-metadata) format\n",
    "- You can create/commit the default README.md from the website **now**\n",
    "- Once done, return here and we can programmatically download and upload that file"
   ]
  },
  {
   "cell_type": "code",
   "execution_count": null,
   "metadata": {},
   "outputs": [],
   "source": [
    "# Download the model card README from the repo\n",
    "# See: https://huggingface.co/docs/huggingface_hub/main/en/guides/download\n",
    "#   for more options on download parameters\n",
    "# By default downloads are saved to the default `cache_dir` in system   \n",
    "#   which is usually `~/.cache/huggingface/hub`\n",
    "from huggingface_hub import hf_hub_download\n",
    "download = hf_hub_download(filename=\"README.md\", repo_id=\"nityan/test-hf-repo\")\n",
    "print(\"File downloaded here: \", download)"
   ]
  },
  {
   "cell_type": "code",
   "execution_count": null,
   "metadata": {},
   "outputs": [],
   "source": [
    "# Lets change this to download to specific folder (local)\n",
    "#   You should now see a `README.md` in the local folder\n",
    "#   And its contents should reflect that of the Model card created earlier\n",
    "download = hf_hub_download(filename=\"README.md\", repo_id=\"nityan/test-hf-repo\", local_dir=\".\")\n",
    "print(\"File downloaded here: \", download)"
   ]
  },
  {
   "cell_type": "code",
   "execution_count": null,
   "metadata": {},
   "outputs": [],
   "source": [
    "# Make some changes to the README.md file locally\n",
    "# Then let's upload the changes back to the repo\n",
    "# And verify the changes by visiting the repo in the browser\n",
    "from huggingface_hub import HfApi\n",
    "api = HfApi()\n",
    "result = api.upload_file(\n",
    "    path_or_fileobj=\"README.md\",\n",
    "    path_in_repo=\"README.md\",\n",
    "    repo_id=\"nityan/test-hf-repo\",\n",
    ")\n",
    "print(\"Upload result: \", result)"
   ]
  },
  {
   "cell_type": "markdown",
   "metadata": {},
   "source": [
    "### 1.3 Search Hub for Models"
   ]
  },
  {
   "cell_type": "markdown",
   "metadata": {},
   "source": [
    "### 1.4 Search Hub for Datasets"
   ]
  },
  {
   "cell_type": "markdown",
   "metadata": {},
   "source": [
    "### 1.5 Search Hub for Collections\n",
    "\n",
    "Working through the examples in [this documentation set](https://huggingface.co/docs/huggingface_hub/guides/collections) related to Collections.\n",
    "\n",
    "A [collection](https://huggingface.co/docs/hub/collections) is a group of related items on the Hub (models, datasets, Spaces, papers) that are organized together on the same page. You can create, update, collaborate-on, access-control, organize, and delete, collections via the Hub UI. Here's what you can do with the Hub API.\n",
    "\n",
    "- `get_collection` to get collection details\n",
    "- `list_collections` to list all collections for given criteria\n",
    "- `create_collection` to create a new collection\n",
    "- `add_collection_item`, `update_collection_item` to manage them\n",
    "- `delete_collection_item` or `delete_collection` to prune them\n",
    "\n",
    "I have a collection of [#MustRead papers](https://huggingface.co/collections/nityan/mustread-papers-656253fe4e74b2075afd652b) - let me see how I can work with this"
   ]
  },
  {
   "cell_type": "code",
   "execution_count": 29,
   "metadata": {},
   "outputs": [],
   "source": [
    "# My collection\n",
    "my_collection = \"nityan/mustread-papers-656253fe4e74b2075afd652b\""
   ]
  },
  {
   "cell_type": "code",
   "execution_count": 44,
   "metadata": {},
   "outputs": [
    {
     "name": "stdout",
     "output_type": "stream",
     "text": [
      "Has: 16 items\n",
      "From: Nitya Narasimhan, PhD\n",
      "About: Signature papers in AI/ML with focus on generative AI or large language models that bring unique perspectives and/or are highly cited by peers\n",
      "Link: https://huggingface.co/collections/nityan/mustread-papers-656253fe4e74b2075afd652b\n"
     ]
    }
   ],
   "source": [
    "# Fetch it and display details\n",
    "from huggingface_hub import get_collection\n",
    "collection = get_collection(my_collection)\n",
    "print(\"Has:\", len(collection.items), \"items\")\n",
    "print(\"From:\", collection.owner[\"fullname\"])\n",
    "print(\"About:\", collection.description)\n",
    "print(\"Type:\",collection.theme)\n",
    "print(\"Link:\", collection.url)\n"
   ]
  },
  {
   "cell_type": "markdown",
   "metadata": {},
   "source": [
    "### 1.6 Access The Inference API"
   ]
  }
 ],
 "metadata": {
  "kernelspec": {
   "display_name": "Python 3",
   "language": "python",
   "name": "python3"
  },
  "language_info": {
   "codemirror_mode": {
    "name": "ipython",
    "version": 3
   },
   "file_extension": ".py",
   "mimetype": "text/x-python",
   "name": "python",
   "nbconvert_exporter": "python",
   "pygments_lexer": "ipython3",
   "version": "3.12.6"
  }
 },
 "nbformat": 4,
 "nbformat_minor": 2
}
